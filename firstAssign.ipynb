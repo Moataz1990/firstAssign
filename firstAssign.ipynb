{
 "cells": [
  {
   "cell_type": "code",
   "execution_count": 1,
   "id": "991f92e9",
   "metadata": {},
   "outputs": [
    {
     "name": "stdout",
     "output_type": "stream",
     "text": [
      "Twinkle, twinkle, little star,\n",
      "          How I wonder what you are!\n",
      "                  Up above the world so high,\n",
      "                  Like a diamond in the sky.\n",
      "Twinkle, twinkle, little star,\n",
      "          How I wonder what you are!\n"
     ]
    }
   ],
   "source": [
    "print(\"Twinkle, twinkle, little star,\");\n",
    "print(\"          How I wonder what you are!\");\n",
    "print(\"                  Up above the world so high,\");\n",
    "print(\"                  Like a diamond in the sky.\");\n",
    "print(\"Twinkle, twinkle, little star,\");\n",
    "print(\"          How I wonder what you are!\");"
   ]
  },
  {
   "cell_type": "code",
   "execution_count": 7,
   "id": "547d18d5",
   "metadata": {},
   "outputs": [
    {
     "name": "stdout",
     "output_type": "stream",
     "text": [
      "The current Date & Time is:  21-12-31 17:25:42\n"
     ]
    }
   ],
   "source": [
    "import datetime\n",
    "currnt = datetime.datetime.now()\n",
    "print(\"The current Date & Time is: \", currnt.strftime((\"%y-%m-%d %H:%M:%S\")))"
   ]
  },
  {
   "cell_type": "code",
   "execution_count": 6,
   "id": "5f1fba71",
   "metadata": {},
   "outputs": [
    {
     "name": "stdout",
     "output_type": "stream",
     "text": [
      "The current version is:  3.9.7 (default, Sep 16 2021, 16:59:28) [MSC v.1916 64 bit (AMD64)]\n"
     ]
    }
   ],
   "source": [
    "import sys\n",
    "print(\"The current version is: \", sys.version)"
   ]
  },
  {
   "cell_type": "code",
   "execution_count": 11,
   "id": "7aacb40d",
   "metadata": {},
   "outputs": [
    {
     "name": "stdout",
     "output_type": "stream",
     "text": [
      "Enter the radius of the circle: 7\n",
      "Area of the Circle is: 153.93804002589985\n"
     ]
    }
   ],
   "source": [
    "import math\n",
    "radius = float(input(\"Enter the radius of the circle: \"))\n",
    "area = math.pi * radius * radius \n",
    "print(\"Area of the Circle is: {0}\".format(area))"
   ]
  },
  {
   "cell_type": "code",
   "execution_count": 12,
   "id": "0bec090e",
   "metadata": {},
   "outputs": [
    {
     "name": "stdout",
     "output_type": "stream",
     "text": [
      "Enter Your First Name: Moataz\n",
      "Enter Your Last Name: Ghulam Ahmed\n",
      "Hi:Ghulam Ahmed Moataz\n"
     ]
    }
   ],
   "source": [
    "firstName = input(\"Enter Your First Name: \")\n",
    "lastName = input(\"Enter Your Last Name: \")\n",
    "print(\"Hi:\" + lastName + \" \" + firstName)"
   ]
  },
  {
   "cell_type": "code",
   "execution_count": 20,
   "id": "263e6a5e",
   "metadata": {},
   "outputs": [
    {
     "name": "stdout",
     "output_type": "stream",
     "text": [
      "Enter Your First Number: 17\n",
      "Enter Your Last Number: 10\n",
      "The Total is:  27\n"
     ]
    }
   ],
   "source": [
    "firstN = int(input(\"Enter Your First Number: \"))\n",
    "lastN = int(input(\"Enter Your Last Number: \"))\n",
    "total = firstN + lastN;\n",
    "print(\"The Total is: \", total)"
   ]
  },
  {
   "cell_type": "code",
   "execution_count": null,
   "id": "18127047",
   "metadata": {},
   "outputs": [],
   "source": []
  },
  {
   "cell_type": "code",
   "execution_count": null,
   "id": "db66969e",
   "metadata": {},
   "outputs": [],
   "source": []
  }
 ],
 "metadata": {
  "kernelspec": {
   "display_name": "Python 3 (ipykernel)",
   "language": "python",
   "name": "python3"
  },
  "language_info": {
   "codemirror_mode": {
    "name": "ipython",
    "version": 3
   },
   "file_extension": ".py",
   "mimetype": "text/x-python",
   "name": "python",
   "nbconvert_exporter": "python",
   "pygments_lexer": "ipython3",
   "version": "3.9.7"
  }
 },
 "nbformat": 4,
 "nbformat_minor": 5
}
